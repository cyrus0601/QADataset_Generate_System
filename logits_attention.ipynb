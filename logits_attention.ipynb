{
 "cells": [
  {
   "cell_type": "code",
   "execution_count": 67,
   "metadata": {},
   "outputs": [],
   "source": [
    "from transformers import AutoTokenizer, AutoModelForCausalLM\n",
    "import torch\n",
    "import pdfplumber\n",
    "from langchain.text_splitter import RecursiveCharacterTextSplitter\n",
    "from langchain.docstore.document import Document\n",
    "from langchain.vectorstores import Chroma\n",
    "from langchain.embeddings import HuggingFaceEmbeddings\n",
    "from langchain.llms import HuggingFacePipeline\n",
    "from langchain.chains import RetrievalQA\n",
    "import torch.nn.functional as F\n",
    "import re\n",
    "import matplotlib.pyplot as plt\n",
    "import seaborn as sns\n",
    "from tqdm import tqdm\n",
    "import numpy as np\n",
    "#%%\n"
   ]
  },
  {
   "cell_type": "code",
   "execution_count": 56,
   "metadata": {},
   "outputs": [
    {
     "name": "stderr",
     "output_type": "stream",
     "text": [
      "Special tokens have been added in the vocabulary, make sure the associated word embeddings are fine-tuned or trained.\n",
      "Loading checkpoint shards: 100%|██████████| 2/2 [00:04<00:00,  2.39s/it]\n"
     ]
    }
   ],
   "source": [
    "device = torch.device(\"cuda\" if torch.cuda.is_available() else \"cpu\")\n",
    "## load ChatQA-1.5 tokenizer and model\n",
    "model_id = \"C:/Users/jywun/Desktop/NYCU/模組/QA_ARAG/Llama3-ChatQA-1.5-8B\"\n",
    "tokenizer = AutoTokenizer.from_pretrained(model_id)\n",
    "model = AutoModelForCausalLM.from_pretrained(model_id, torch_dtype=torch.float16,output_attentions=True).to(device)"
   ]
  },
  {
   "cell_type": "code",
   "execution_count": 40,
   "metadata": {},
   "outputs": [
    {
     "data": {
      "text/plain": [
       "{'input_ids': tensor([[9906,   11,  649,  499,  656,  757,  264, 4799,   30]],\n",
       "       device='cuda:0'), 'attention_mask': tensor([[1, 1, 1, 1, 1, 1, 1, 1, 1]], device='cuda:0')}"
      ]
     },
     "execution_count": 40,
     "metadata": {},
     "output_type": "execute_result"
    }
   ],
   "source": [
    "input_text = \"Hello, can you do me a favor?\"\n",
    "inputs = tokenizer(input_text, return_tensors=\"pt\").to(device)\n"
   ]
  },
  {
   "cell_type": "code",
   "execution_count": 41,
   "metadata": {},
   "outputs": [
    {
     "name": "stderr",
     "output_type": "stream",
     "text": [
      "LlamaModel is using LlamaSdpaAttention, but `torch.nn.functional.scaled_dot_product_attention` does not support `output_attentions=True`. Falling back to the manual attention implementation, but specifying the manual implementation will be required from Transformers version v5.0.0 onwards. This warning can be removed using the argument `attn_implementation=\"eager\"` when loading the model.\n"
     ]
    },
    {
     "name": "stdout",
     "output_type": "stream",
     "text": [
      "odict_keys(['logits', 'past_key_values', 'attentions'])\n"
     ]
    }
   ],
   "source": [
    "outputs = model(**inputs)\n",
    "print(outputs.keys())"
   ]
  },
  {
   "cell_type": "code",
   "execution_count": 50,
   "metadata": {},
   "outputs": [
    {
     "name": "stdout",
     "output_type": "stream",
     "text": [
      "Layer 1:\n",
      "Attention weights shape: torch.Size([1, 32, 9, 9])\n",
      "\n",
      "Layer 2:\n",
      "Attention weights shape: torch.Size([1, 32, 9, 9])\n",
      "\n",
      "Layer 3:\n",
      "Attention weights shape: torch.Size([1, 32, 9, 9])\n",
      "\n",
      "Layer 4:\n",
      "Attention weights shape: torch.Size([1, 32, 9, 9])\n",
      "\n",
      "Layer 5:\n",
      "Attention weights shape: torch.Size([1, 32, 9, 9])\n",
      "\n",
      "Layer 6:\n",
      "Attention weights shape: torch.Size([1, 32, 9, 9])\n",
      "\n",
      "Layer 7:\n",
      "Attention weights shape: torch.Size([1, 32, 9, 9])\n",
      "\n",
      "Layer 8:\n",
      "Attention weights shape: torch.Size([1, 32, 9, 9])\n",
      "\n",
      "Layer 9:\n",
      "Attention weights shape: torch.Size([1, 32, 9, 9])\n",
      "\n",
      "Layer 10:\n",
      "Attention weights shape: torch.Size([1, 32, 9, 9])\n",
      "\n",
      "Layer 11:\n",
      "Attention weights shape: torch.Size([1, 32, 9, 9])\n",
      "\n",
      "Layer 12:\n",
      "Attention weights shape: torch.Size([1, 32, 9, 9])\n",
      "\n",
      "Layer 13:\n",
      "Attention weights shape: torch.Size([1, 32, 9, 9])\n",
      "\n",
      "Layer 14:\n",
      "Attention weights shape: torch.Size([1, 32, 9, 9])\n",
      "\n",
      "Layer 15:\n",
      "Attention weights shape: torch.Size([1, 32, 9, 9])\n",
      "\n",
      "Layer 16:\n",
      "Attention weights shape: torch.Size([1, 32, 9, 9])\n",
      "\n",
      "Layer 17:\n",
      "Attention weights shape: torch.Size([1, 32, 9, 9])\n",
      "\n",
      "Layer 18:\n",
      "Attention weights shape: torch.Size([1, 32, 9, 9])\n",
      "\n",
      "Layer 19:\n",
      "Attention weights shape: torch.Size([1, 32, 9, 9])\n",
      "\n",
      "Layer 20:\n",
      "Attention weights shape: torch.Size([1, 32, 9, 9])\n",
      "\n",
      "Layer 21:\n",
      "Attention weights shape: torch.Size([1, 32, 9, 9])\n",
      "\n",
      "Layer 22:\n",
      "Attention weights shape: torch.Size([1, 32, 9, 9])\n",
      "\n",
      "Layer 23:\n",
      "Attention weights shape: torch.Size([1, 32, 9, 9])\n",
      "\n",
      "Layer 24:\n",
      "Attention weights shape: torch.Size([1, 32, 9, 9])\n",
      "\n",
      "Layer 25:\n",
      "Attention weights shape: torch.Size([1, 32, 9, 9])\n",
      "\n",
      "Layer 26:\n",
      "Attention weights shape: torch.Size([1, 32, 9, 9])\n",
      "\n",
      "Layer 27:\n",
      "Attention weights shape: torch.Size([1, 32, 9, 9])\n",
      "\n",
      "Layer 28:\n",
      "Attention weights shape: torch.Size([1, 32, 9, 9])\n",
      "\n",
      "Layer 29:\n",
      "Attention weights shape: torch.Size([1, 32, 9, 9])\n",
      "\n",
      "Layer 30:\n",
      "Attention weights shape: torch.Size([1, 32, 9, 9])\n",
      "\n",
      "Layer 31:\n",
      "Attention weights shape: torch.Size([1, 32, 9, 9])\n",
      "\n",
      "Layer 32:\n",
      "Attention weights shape: torch.Size([1, 32, 9, 9])\n",
      "\n"
     ]
    }
   ],
   "source": [
    "attentions = outputs.attentions\n",
    "for i, layer_att in enumerate(attentions):\n",
    "    print(f\"Layer {i+1}:\")\n",
    "    print(f\"Attention weights shape: {layer_att.shape}\")\n",
    "    print()"
   ]
  },
  {
   "cell_type": "code",
   "execution_count": 57,
   "metadata": {},
   "outputs": [
    {
     "data": {
      "text/plain": [
       "tensor([[1.0000, 0.0000, 0.0000, 0.0000, 0.0000, 0.0000, 0.0000, 0.0000, 0.0000],\n",
       "        [0.6470, 0.3530, 0.0000, 0.0000, 0.0000, 0.0000, 0.0000, 0.0000, 0.0000],\n",
       "        [0.5928, 0.3674, 0.0396, 0.0000, 0.0000, 0.0000, 0.0000, 0.0000, 0.0000],\n",
       "        [0.5322, 0.3359, 0.0815, 0.0506, 0.0000, 0.0000, 0.0000, 0.0000, 0.0000],\n",
       "        [0.2830, 0.3823, 0.2159, 0.1017, 0.0172, 0.0000, 0.0000, 0.0000, 0.0000],\n",
       "        [0.1655, 0.1549, 0.1427, 0.4180, 0.0778, 0.0411, 0.0000, 0.0000, 0.0000],\n",
       "        [0.1458, 0.1085, 0.1503, 0.2219, 0.2377, 0.0953, 0.0405, 0.0000, 0.0000],\n",
       "        [0.0953, 0.0699, 0.0844, 0.1290, 0.2443, 0.2074, 0.1282, 0.0414, 0.0000],\n",
       "        [0.1171, 0.0720, 0.0883, 0.1246, 0.1037, 0.1531, 0.1005, 0.0640, 0.1768]],\n",
       "       device='cuda:0', dtype=torch.float16, grad_fn=<SliceBackward0>)"
      ]
     },
     "execution_count": 57,
     "metadata": {},
     "output_type": "execute_result"
    }
   ],
   "source": [
    "attention_layer_1 = attentions[0]\n",
    "attention_head_1 = attention_layer_1[0, 0, :, :]\n",
    "attention_head_1"
   ]
  },
  {
   "cell_type": "code",
   "execution_count": null,
   "metadata": {},
   "outputs": [],
   "source": []
  },
  {
   "cell_type": "code",
   "execution_count": 64,
   "metadata": {},
   "outputs": [
    {
     "data": {
      "text/plain": [
       "array([[1.     , 0.     , 0.     , 0.     , 0.     , 0.     , 0.     ,\n",
       "        0.     , 0.     ],\n",
       "       [0.647  , 0.353  , 0.     , 0.     , 0.     , 0.     , 0.     ,\n",
       "        0.     , 0.     ],\n",
       "       [0.593  , 0.3674 , 0.0396 , 0.     , 0.     , 0.     , 0.     ,\n",
       "        0.     , 0.     ],\n",
       "       [0.532  , 0.336  , 0.08154, 0.0506 , 0.     , 0.     , 0.     ,\n",
       "        0.     , 0.     ],\n",
       "       [0.283  , 0.3823 , 0.216  , 0.1017 , 0.01717, 0.     , 0.     ,\n",
       "        0.     , 0.     ],\n",
       "       [0.1655 , 0.1549 , 0.1427 , 0.418  , 0.07776, 0.04114, 0.     ,\n",
       "        0.     , 0.     ],\n",
       "       [0.1458 , 0.10846, 0.1503 , 0.2219 , 0.2377 , 0.09534, 0.04053,\n",
       "        0.     , 0.     ],\n",
       "       [0.09534, 0.06995, 0.0844 , 0.129  , 0.2443 , 0.2074 , 0.1282 ,\n",
       "        0.04138, 0.     ],\n",
       "       [0.1171 , 0.07196, 0.0883 , 0.1246 , 0.1037 , 0.1531 , 0.10046,\n",
       "        0.06396, 0.1768 ]], dtype=float16)"
      ]
     },
     "execution_count": 64,
     "metadata": {},
     "output_type": "execute_result"
    }
   ],
   "source": [
    "input_tokens = tokenizer.convert_ids_to_tokens(inputs['input_ids'][0])\n",
    "attention_matrix = attention_head_1.detach().cpu().numpy()\n",
    "attention_matrix"
   ]
  },
  {
   "cell_type": "code",
   "execution_count": 68,
   "metadata": {},
   "outputs": [
    {
     "data": {
      "image/png": "[encoded data removed]",
      "text/plain": [
       "<Figure size 1000x1000 with 2 Axes>"
      ]
     },
     "metadata": {},
     "output_type": "display_data"
    }
   ],
   "source": [
    "plt.figure(figsize=(10, 10))\n",
    "sns.heatmap(attention_matrix, xticklabels=input_tokens, yticklabels=input_tokens, cmap='viridis')\n",
    "plt.xlabel(\"Input Tokens\")\n",
    "plt.ylabel(\"Attention Tokens\")\n",
    "plt.title(\"Attention Weights for the First Head in the First Layer\")\n",
    "plt.show()"
   ]
  },
  {
   "cell_type": "code",
   "execution_count": 43,
   "metadata": {},
   "outputs": [
    {
     "data": {
      "text/plain": [
       "torch.Size([1, 9, 128256])"
      ]
     },
     "execution_count": 43,
     "metadata": {},
     "output_type": "execute_result"
    }
   ],
   "source": [
    "outputs.logits.shape"
   ]
  },
  {
   "cell_type": "code",
   "execution_count": 44,
   "metadata": {},
   "outputs": [
    {
     "name": "stdout",
     "output_type": "stream",
     "text": [
      "Layer 1:\n",
      "Key shape: torch.Size([1, 8, 9, 128])\n",
      "Value shape: torch.Size([1, 8, 9, 128])\n",
      "\n",
      "Layer 2:\n",
      "Key shape: torch.Size([1, 8, 9, 128])\n",
      "Value shape: torch.Size([1, 8, 9, 128])\n",
      "\n",
      "Layer 3:\n",
      "Key shape: torch.Size([1, 8, 9, 128])\n",
      "Value shape: torch.Size([1, 8, 9, 128])\n",
      "\n",
      "Layer 4:\n",
      "Key shape: torch.Size([1, 8, 9, 128])\n",
      "Value shape: torch.Size([1, 8, 9, 128])\n",
      "\n",
      "Layer 5:\n",
      "Key shape: torch.Size([1, 8, 9, 128])\n",
      "Value shape: torch.Size([1, 8, 9, 128])\n",
      "\n",
      "Layer 6:\n",
      "Key shape: torch.Size([1, 8, 9, 128])\n",
      "Value shape: torch.Size([1, 8, 9, 128])\n",
      "\n",
      "Layer 7:\n",
      "Key shape: torch.Size([1, 8, 9, 128])\n",
      "Value shape: torch.Size([1, 8, 9, 128])\n",
      "\n",
      "Layer 8:\n",
      "Key shape: torch.Size([1, 8, 9, 128])\n",
      "Value shape: torch.Size([1, 8, 9, 128])\n",
      "\n",
      "Layer 9:\n",
      "Key shape: torch.Size([1, 8, 9, 128])\n",
      "Value shape: torch.Size([1, 8, 9, 128])\n",
      "\n",
      "Layer 10:\n",
      "Key shape: torch.Size([1, 8, 9, 128])\n",
      "Value shape: torch.Size([1, 8, 9, 128])\n",
      "\n",
      "Layer 11:\n",
      "Key shape: torch.Size([1, 8, 9, 128])\n",
      "Value shape: torch.Size([1, 8, 9, 128])\n",
      "\n",
      "Layer 12:\n",
      "Key shape: torch.Size([1, 8, 9, 128])\n",
      "Value shape: torch.Size([1, 8, 9, 128])\n",
      "\n",
      "Layer 13:\n",
      "Key shape: torch.Size([1, 8, 9, 128])\n",
      "Value shape: torch.Size([1, 8, 9, 128])\n",
      "\n",
      "Layer 14:\n",
      "Key shape: torch.Size([1, 8, 9, 128])\n",
      "Value shape: torch.Size([1, 8, 9, 128])\n",
      "\n",
      "Layer 15:\n",
      "Key shape: torch.Size([1, 8, 9, 128])\n",
      "Value shape: torch.Size([1, 8, 9, 128])\n",
      "\n",
      "Layer 16:\n",
      "Key shape: torch.Size([1, 8, 9, 128])\n",
      "Value shape: torch.Size([1, 8, 9, 128])\n",
      "\n",
      "Layer 17:\n",
      "Key shape: torch.Size([1, 8, 9, 128])\n",
      "Value shape: torch.Size([1, 8, 9, 128])\n",
      "\n",
      "Layer 18:\n",
      "Key shape: torch.Size([1, 8, 9, 128])\n",
      "Value shape: torch.Size([1, 8, 9, 128])\n",
      "\n",
      "Layer 19:\n",
      "Key shape: torch.Size([1, 8, 9, 128])\n",
      "Value shape: torch.Size([1, 8, 9, 128])\n",
      "\n",
      "Layer 20:\n",
      "Key shape: torch.Size([1, 8, 9, 128])\n",
      "Value shape: torch.Size([1, 8, 9, 128])\n",
      "\n",
      "Layer 21:\n",
      "Key shape: torch.Size([1, 8, 9, 128])\n",
      "Value shape: torch.Size([1, 8, 9, 128])\n",
      "\n",
      "Layer 22:\n",
      "Key shape: torch.Size([1, 8, 9, 128])\n",
      "Value shape: torch.Size([1, 8, 9, 128])\n",
      "\n",
      "Layer 23:\n",
      "Key shape: torch.Size([1, 8, 9, 128])\n",
      "Value shape: torch.Size([1, 8, 9, 128])\n",
      "\n",
      "Layer 24:\n",
      "Key shape: torch.Size([1, 8, 9, 128])\n",
      "Value shape: torch.Size([1, 8, 9, 128])\n",
      "\n",
      "Layer 25:\n",
      "Key shape: torch.Size([1, 8, 9, 128])\n",
      "Value shape: torch.Size([1, 8, 9, 128])\n",
      "\n",
      "Layer 26:\n",
      "Key shape: torch.Size([1, 8, 9, 128])\n",
      "Value shape: torch.Size([1, 8, 9, 128])\n",
      "\n",
      "Layer 27:\n",
      "Key shape: torch.Size([1, 8, 9, 128])\n",
      "Value shape: torch.Size([1, 8, 9, 128])\n",
      "\n",
      "Layer 28:\n",
      "Key shape: torch.Size([1, 8, 9, 128])\n",
      "Value shape: torch.Size([1, 8, 9, 128])\n",
      "\n",
      "Layer 29:\n",
      "Key shape: torch.Size([1, 8, 9, 128])\n",
      "Value shape: torch.Size([1, 8, 9, 128])\n",
      "\n",
      "Layer 30:\n",
      "Key shape: torch.Size([1, 8, 9, 128])\n",
      "Value shape: torch.Size([1, 8, 9, 128])\n",
      "\n",
      "Layer 31:\n",
      "Key shape: torch.Size([1, 8, 9, 128])\n",
      "Value shape: torch.Size([1, 8, 9, 128])\n",
      "\n",
      "Layer 32:\n",
      "Key shape: torch.Size([1, 8, 9, 128])\n",
      "Value shape: torch.Size([1, 8, 9, 128])\n",
      "\n"
     ]
    }
   ],
   "source": [
    "past_key_values = outputs.past_key_values\n",
    "\n",
    "# 显示 past_key_values 中每个张量的形状\n",
    "for i, layer_past in enumerate(past_key_values):\n",
    "    print(f\"Layer {i+1}:\")\n",
    "    print(f\"Key shape: {layer_past[0].shape}\")\n",
    "    print(f\"Value shape: {layer_past[1].shape}\")\n",
    "    print()"
   ]
  },
  {
   "cell_type": "code",
   "execution_count": null,
   "metadata": {},
   "outputs": [],
   "source": [
    "# from transformers import GPT2Tokenizer, GPT2LMHeadModel\n",
    "# import torch\n",
    "# import matplotlib.pyplot as plt\n",
    "# import seaborn as sns\n",
    "\n",
    "# # 加载GPT-2模型和tokenizer\n",
    "# model_name = 'gpt2'\n",
    "# tokenizer = GPT2Tokenizer.from_pretrained(model_name)\n",
    "# model = GPT2LMHeadModel.from_pretrained(model_name, output_attentions=True)\n",
    "\n",
    "# # 初始输入文本\n",
    "# input_text = \"Once upon a time\"\n",
    "# inputs = tokenizer(input_text, return_tensors=\"pt\")\n",
    "\n",
    "# # 设置模型为评估模式\n",
    "# model.eval()\n",
    "\n",
    "# # 初始化生成的token列表\n",
    "# generated_tokens = inputs['input_ids']\n",
    "\n",
    "# # 定义要生成的token数量\n",
    "# num_tokens_to_generate = 10\n",
    "\n",
    "# # 存储每个生成步骤的注意力权重\n",
    "# all_attentions = []\n",
    "\n",
    "# # 自回归生成\n",
    "# with torch.no_grad():\n",
    "#     for _ in range(num_tokens_to_generate):\n",
    "#         # 获取模型输出\n",
    "#         outputs = model(generated_tokens)\n",
    "\n",
    "#         # 提取logits和注意力权重\n",
    "#         logits = outputs.logits\n",
    "#         attentions = outputs.attentions\n",
    "\n",
    "#         # 记录当前步骤的注意力权重\n",
    "#         all_attentions.append(attentions)\n",
    "\n",
    "#         # 获取当前生成的下一个token\n",
    "#         next_token = torch.argmax(logits[:, -1, :], dim=-1, keepdim=True)\n",
    "\n",
    "#         # 将生成的token添加到输入序列中\n",
    "#         generated_tokens = torch.cat((generated_tokens, next_token), dim=1)\n",
    "\n",
    "# # 准备可视化数据\n",
    "# def plot_attention(attention, input_tokens, output_tokens, layer=0, head=0):\n",
    "#     attention = attention[layer][0, head].detach().cpu().numpy()\n",
    "    \n",
    "#     plt.figure(figsize=(10, 10))\n",
    "#     sns.heatmap(attention, xticklabels=input_tokens, yticklabels=output_tokens, cmap='viridis')\n",
    "#     plt.xlabel(\"Input Tokens\")\n",
    "#     plt.ylabel(\"Output Tokens\")\n",
    "#     plt.title(f\"Attention Weights for Layer {layer + 1}, Head {head + 1}\")\n",
    "#     plt.show()\n",
    "\n",
    "# # 初始输入token列表\n",
    "# input_tokens = tokenizer.convert_ids_to_tokens(inputs['input_ids'][0])\n",
    "\n",
    "# # 生成的token列表\n",
    "# generated_tokens_list = generated_tokens[0].tolist()\n",
    "# output_tokens = tokenizer.convert_ids_to_tokens(generated_tokens_list)\n",
    "\n",
    "# # 可视化生成的第一个token时的注意力权重（从第1层第1个头）\n",
    "# plot_attention(all_attentions[0], input_tokens, output_tokens[:len(input_tokens) + 1], layer=0, head=0)\n"
   ]
  }
 ],
 "metadata": {
  "kernelspec": {
   "display_name": "module",
   "language": "python",
   "name": "python3"
  },
  "language_info": {
   "codemirror_mode": {
    "name": "ipython",
    "version": 3
   },
   "file_extension": ".py",
   "mimetype": "text/x-python",
   "name": "python",
   "nbconvert_exporter": "python",
   "pygments_lexer": "ipython3",
   "version": "3.12.3"
  }
 },
 "nbformat": 4,
 "nbformat_minor": 2
}
